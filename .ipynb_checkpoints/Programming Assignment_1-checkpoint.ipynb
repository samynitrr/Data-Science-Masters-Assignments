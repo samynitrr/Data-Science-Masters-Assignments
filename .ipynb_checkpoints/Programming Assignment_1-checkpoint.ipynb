{
 "cells": [
  {
   "cell_type": "markdown",
   "id": "f4f4e31f",
   "metadata": {},
   "source": [
    "1. Write a Python program to print \"Hello Python\"?"
   ]
  },
  {
   "cell_type": "code",
   "execution_count": 6,
   "id": "f55dd5b1",
   "metadata": {},
   "outputs": [
    {
     "name": "stdout",
     "output_type": "stream",
     "text": [
      "Hello Python\n"
     ]
    }
   ],
   "source": [
    "print('Hello Python')"
   ]
  },
  {
   "cell_type": "markdown",
   "id": "435c572d",
   "metadata": {},
   "source": [
    "2. Write a Python program to do arithmetical operations addition and division.?"
   ]
  },
  {
   "cell_type": "code",
   "execution_count": 5,
   "id": "7db2c6d5",
   "metadata": {
    "scrolled": true
   },
   "outputs": [
    {
     "name": "stdout",
     "output_type": "stream",
     "text": [
      "30\n",
      "2.0\n"
     ]
    }
   ],
   "source": [
    "a = 10\n",
    "b = 20\n",
    "c = a+b\n",
    "d = b/10\n",
    "print(c)\n",
    "print(d)"
   ]
  },
  {
   "cell_type": "markdown",
   "id": "55e577c7",
   "metadata": {},
   "source": [
    "3. Write a Python program to find the area of a triangle?"
   ]
  },
  {
   "cell_type": "code",
   "execution_count": 4,
   "id": "d747120a",
   "metadata": {},
   "outputs": [
    {
     "name": "stdout",
     "output_type": "stream",
     "text": [
      "25.0\n"
     ]
    }
   ],
   "source": [
    "def area(b,p): #b- base | p - perpendicular\n",
    "    a = 0.5*b*p\n",
    "    print(a)\n",
    "b = 10\n",
    "p = 5\n",
    "a = area(b,p)"
   ]
  },
  {
   "cell_type": "markdown",
   "id": "636c6fe8",
   "metadata": {},
   "source": [
    "4. Write a Python program to swap two variables?"
   ]
  },
  {
   "cell_type": "code",
   "execution_count": 3,
   "id": "ac36fc85",
   "metadata": {},
   "outputs": [
    {
     "name": "stdout",
     "output_type": "stream",
     "text": [
      "a: 20\n",
      "b: 10\n"
     ]
    }
   ],
   "source": [
    "def swap(a,b):\n",
    "    print('a:', b)\n",
    "    print('b:', a)\n",
    "    \n",
    "a = 10\n",
    "b = 20    \n",
    "swap(a,b)"
   ]
  },
  {
   "cell_type": "markdown",
   "id": "85f52079",
   "metadata": {},
   "source": [
    "5. Write a Python program to generate a random number?"
   ]
  },
  {
   "cell_type": "code",
   "execution_count": 15,
   "id": "ea0baba3",
   "metadata": {
    "scrolled": true
   },
   "outputs": [
    {
     "name": "stdout",
     "output_type": "stream",
     "text": [
      "5\n",
      "0.005117642622750385\n"
     ]
    }
   ],
   "source": [
    "import random\n",
    "print(random.randint(0,9)) # random int\n",
    "print(random.random()) # random number float"
   ]
  }
 ],
 "metadata": {
  "kernelspec": {
   "display_name": "Python 3",
   "language": "python",
   "name": "python3"
  },
  "language_info": {
   "codemirror_mode": {
    "name": "ipython",
    "version": 3
   },
   "file_extension": ".py",
   "mimetype": "text/x-python",
   "name": "python",
   "nbconvert_exporter": "python",
   "pygments_lexer": "ipython3",
   "version": "3.8.8"
  }
 },
 "nbformat": 4,
 "nbformat_minor": 5
}
