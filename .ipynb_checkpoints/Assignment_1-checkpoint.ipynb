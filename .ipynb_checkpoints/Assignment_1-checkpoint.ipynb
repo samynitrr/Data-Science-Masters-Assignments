{
 "cells": [
  {
   "cell_type": "markdown",
   "id": "b7cd0f00",
   "metadata": {},
   "source": [
    "1. In the below elements which of them are values or an expression? eg:- values can be\n",
    "integer or string and expressions will be mathematical operators.\n",
    "*\n",
    "'hello'\n",
    "-87.8\n",
    "-\n",
    "/\n",
    "+\n",
    "6"
   ]
  },
  {
   "cell_type": "markdown",
   "id": "769e3529",
   "metadata": {},
   "source": [
    "Ans)\n",
    "#Values\n",
    "'hello'\n",
    "-87.8\n",
    "6\n",
    "\n",
    "#Expressions\n",
    "*\n",
    "-\n",
    "/\n",
    "+"
   ]
  },
  {
   "cell_type": "markdown",
   "id": "25a10bd6",
   "metadata": {},
   "source": [
    "2. What is the difference between string and variable?"
   ]
  },
  {
   "cell_type": "markdown",
   "id": "bc4c7bae",
   "metadata": {},
   "source": [
    "Ans)\n",
    "#String - Data Type\n",
    "'abc'\n",
    "'1abc'\n",
    "'1'\n",
    "\"It's my name\"\n",
    "'\"Hello!\" I am super happy'\n",
    "\n",
    "#Variables (storage space of data types to be recalled later for different operations)\n",
    "x = 10\n",
    "a = 'this is a string variable'"
   ]
  },
  {
   "cell_type": "markdown",
   "id": "6fd3fa74",
   "metadata": {},
   "source": [
    "3. Describe three different data types."
   ]
  },
  {
   "cell_type": "markdown",
   "id": "147cc46a",
   "metadata": {},
   "source": [
    "Ans)\n",
    "1. int - 1, 2, 10 , 90\n",
    "2. str - 'abc', '1String'\n",
    "3. float - 10.8\n",
    "#complex , bool"
   ]
  },
  {
   "cell_type": "markdown",
   "id": "928aab96",
   "metadata": {},
   "source": [
    "4. What is an expression made up of? What do all expressions do?"
   ]
  },
  {
   "cell_type": "markdown",
   "id": "7da3d0d5",
   "metadata": {},
   "source": [
    "Ans)\n",
    "#expressions are made up of operators. They perform operations e.g.\n",
    "x = a+b #expression"
   ]
  },
  {
   "cell_type": "markdown",
   "id": "137756c4",
   "metadata": {},
   "source": [
    "5. This assignment statements, like spam = 10. What is the difference between an\n",
    "expression and a statement?"
   ]
  },
  {
   "cell_type": "markdown",
   "id": "f33be900",
   "metadata": {},
   "source": [
    "Ans)\n",
    "#statements is assigning a value to a variable\n",
    "spam = 10\n",
    "#Expressions\n",
    "z = spam**2"
   ]
  },
  {
   "cell_type": "markdown",
   "id": "5b499eb3",
   "metadata": {},
   "source": [
    "6. After running the following code, what does the variable bacon contain?\n",
    "bacon = 22\n",
    "bacon + 1"
   ]
  },
  {
   "cell_type": "markdown",
   "id": "2a04033f",
   "metadata": {},
   "source": [
    "Ans)\n",
    "bacon = 23"
   ]
  },
  {
   "cell_type": "markdown",
   "id": "72faea49",
   "metadata": {},
   "source": [
    "7. What should the values of the following two terms be?\n",
    "'spam' + 'spamspam'\n",
    "'spam' * 3"
   ]
  },
  {
   "cell_type": "markdown",
   "id": "1feecc66",
   "metadata": {},
   "source": [
    "Ans)\n",
    "'spamspamspam'"
   ]
  },
  {
   "cell_type": "markdown",
   "id": "0de1f5cd",
   "metadata": {},
   "source": [
    "8. Why is eggs a valid variable name while 100 is invalid?"
   ]
  },
  {
   "cell_type": "markdown",
   "id": "4cc74504",
   "metadata": {},
   "source": [
    "Ans) Because eggs starts with a character while 100 starts with a digit"
   ]
  },
  {
   "cell_type": "markdown",
   "id": "fa2080bd",
   "metadata": {},
   "source": [
    "9. What three functions can be used to get the integer, floating-point number, or string\n",
    "version of a value?"
   ]
  },
  {
   "cell_type": "markdown",
   "id": "fa788d20",
   "metadata": {},
   "source": [
    "Ans)\n",
    "int(), float(), str()"
   ]
  },
  {
   "cell_type": "markdown",
   "id": "3d1be001",
   "metadata": {},
   "source": [
    "10. Why does this expression cause an error? How can you fix it?\n",
    "'I have eaten' + 99 + 'burritos.'"
   ]
  },
  {
   "cell_type": "markdown",
   "id": "bc9850e6",
   "metadata": {},
   "source": [
    "Ans)\n",
    "Because there is data type mismatch of addition operation performing on int and str.\n",
    "This can be fixed by changing int 99 to str(99)\n",
    "'I have eaten' + str(99) + 'burritos.'"
   ]
  }
 ],
 "metadata": {
  "kernelspec": {
   "display_name": "Python 3",
   "language": "python",
   "name": "python3"
  },
  "language_info": {
   "codemirror_mode": {
    "name": "ipython",
    "version": 3
   },
   "file_extension": ".py",
   "mimetype": "text/x-python",
   "name": "python",
   "nbconvert_exporter": "python",
   "pygments_lexer": "ipython3",
   "version": "3.8.8"
  }
 },
 "nbformat": 4,
 "nbformat_minor": 5
}
